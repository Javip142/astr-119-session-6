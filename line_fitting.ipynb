{
 "cells": [
  {
   "cell_type": "markdown",
   "id": "9c757c9f",
   "metadata": {},
   "source": [
    "## Example of performing linear least squares fitting"
   ]
  },
  {
   "cell_type": "markdown",
   "id": "f5feeb69",
   "metadata": {},
   "source": [
    "First we import numpy and matplotlib as usaul "
   ]
  },
  {
   "cell_type": "code",
   "execution_count": null,
   "id": "0ce0d461",
   "metadata": {},
   "outputs": [],
   "source": [
    "%matplotlib inline\n",
    "import matplotlib.pyplot as plt\n",
    "import numpy as np"
   ]
  },
  {
   "cell_type": "markdown",
   "id": "2e2033f2",
   "metadata": {},
   "source": [
    "Now, let's generate some random data about a trend line"
   ]
  },
  {
   "cell_type": "code",
   "execution_count": null,
   "id": "9e606024",
   "metadata": {},
   "outputs": [],
   "source": [
    "# central limit theorem: if you make a measurement repeatedly \n",
    "# you can take the mean value and then repeat it again\n",
    "# for each one of those trials we take the mean value of them\n",
    "# then we take the average of the averages, and become a gaussiean random \n",
    "#process"
   ]
  },
  {
   "cell_type": "code",
   "execution_count": null,
   "id": "a7f9cfdb",
   "metadata": {},
   "outputs": [],
   "source": [
    " #set a random bumber seed\n",
    "np.random.seed(119)\n",
    "\n",
    "#set number of data points\n",
    "npoints = 50 \n",
    "\n",
    "#set x\n",
    "x = np.linspace(0,10.,npoints)\n",
    "\n",
    "#set slope, intercept, and scatter rms\n",
    "m = 2.0 \n",
    "b = 1.0 \n",
    "sigma = 2.0 \n",
    "\n",
    "#generate y points \n",
    "y = m*x + b + np.random.normal(scale=sigma,size=npoints)\n",
    "y_err = np.full(npoints,sigma)"
   ]
  },
  {
   "cell_type": "markdown",
   "id": "2d74dac0",
   "metadata": {},
   "source": [
    "# Just plot the data!"
   ]
  },
  {
   "cell_type": "code",
   "execution_count": null,
   "id": "c01e2be7",
   "metadata": {},
   "outputs": [],
   "source": [
    "f = plt.figure(figsize=(7,7))\n",
    "plt.errorbar(x,y,sigma,fmt='o')\n",
    "plt.xlabel('x')\n",
    "plt.ylabel('y')"
   ]
  },
  {
   "cell_type": "markdown",
   "id": "40d0173a",
   "metadata": {},
   "source": [
    "# Method #1, polyfit()"
   ]
  },
  {
   "cell_type": "code",
   "execution_count": null,
   "id": "34968a26",
   "metadata": {
    "scrolled": true
   },
   "outputs": [],
   "source": [
    "m_fit, b_fit = np.poly1d(np.polyfit(x,y,1,w=1./y_err))\n",
    "print(\"Best fit slope = \",m_fit)\n",
    "print(\"Best fit intercept = \",b_fit)\n",
    "\n",
    "y_fit = m_fit * x + b_fit"
   ]
  },
  {
   "cell_type": "markdown",
   "id": "ca87b246",
   "metadata": {},
   "source": [
    "### Plot result "
   ]
  },
  {
   "cell_type": "code",
   "execution_count": null,
   "id": "ab32f5de",
   "metadata": {},
   "outputs": [],
   "source": [
    "f = plt.figure(figsize=(7,7))\n",
    "plt.errorbar(x,y,sigma,fmt='o',label='data')\n",
    "plt.xlabel('x')\n",
    "plt.ylabel('y')\n",
    "\n",
    "plt.plot(x,y_fit,label='fit')\n",
    "plt.legend(loc=2,frameon=False)\n",
    "print(m_fit)\n",
    "print(b_fit)"
   ]
  },
  {
   "cell_type": "code",
   "execution_count": null,
   "id": "365c4191",
   "metadata": {},
   "outputs": [],
   "source": []
  }
 ],
 "metadata": {
  "kernelspec": {
   "display_name": "Python 3 (ipykernel)",
   "language": "python",
   "name": "python3"
  },
  "language_info": {
   "codemirror_mode": {
    "name": "ipython",
    "version": 3
   },
   "file_extension": ".py",
   "mimetype": "text/x-python",
   "name": "python",
   "nbconvert_exporter": "python",
   "pygments_lexer": "ipython3",
   "version": "3.9.7"
  }
 },
 "nbformat": 4,
 "nbformat_minor": 5
}
